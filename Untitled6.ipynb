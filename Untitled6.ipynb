{
  "nbformat": 4,
  "nbformat_minor": 0,
  "metadata": {
    "colab": {
      "provenance": [],
      "authorship_tag": "ABX9TyOLqhg38nTrq7rNWW/niEcU",
      "include_colab_link": true
    },
    "kernelspec": {
      "name": "python3",
      "display_name": "Python 3"
    },
    "language_info": {
      "name": "python"
    }
  },
  "cells": [
    {
      "cell_type": "markdown",
      "metadata": {
        "id": "view-in-github",
        "colab_type": "text"
      },
      "source": [
        "<a href=\"https://colab.research.google.com/github/Nandu709p/personal-repository/blob/main/Untitled6.ipynb\" target=\"_parent\"><img src=\"https://colab.research.google.com/assets/colab-badge.svg\" alt=\"Open In Colab\"/></a>"
      ]
    },
    {
      "cell_type": "code",
      "execution_count": null,
      "metadata": {
        "colab": {
          "base_uri": "https://localhost:8080/"
        },
        "id": "LIFzWR4KDREn",
        "outputId": "1efb4181-f6ba-4de6-8935-0e672a6959d9"
      },
      "outputs": [
        {
          "output_type": "stream",
          "name": "stdout",
          "text": [
            "Enter the num: 10\n",
            "Enter the power: 5\n",
            "10 to the power of 5 is 100000\n"
          ]
        }
      ],
      "source": [
        "num = int(input(\"Enter the num: \"))\n",
        "power = int(input(\"Enter the power: \"))\n",
        "\n",
        "answer_ = 1\n",
        "for _ in range(power):\n",
        "\n",
        "    answer_ *= num\n",
        "\n",
        "\n",
        "print(f\"{num} to the power of {power} is {answer_}\")"
      ]
    }
  ]
}